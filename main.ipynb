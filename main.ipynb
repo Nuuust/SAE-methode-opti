{
 "cells": [
  {
   "attachments": {},
   "cell_type": "markdown",
   "metadata": {},
   "source": [
    "# SAE Modélisation Mathématique"
   ]
  },
  {
   "attachments": {},
   "cell_type": "markdown",
   "metadata": {},
   "source": [
    "MARIE Nathan <br>\n",
    "COUET Benjamin"
   ]
  },
  {
   "attachments": {},
   "cell_type": "markdown",
   "metadata": {},
   "source": [
    "### Packages et librairies"
   ]
  },
  {
   "cell_type": "code",
   "execution_count": 23,
   "metadata": {},
   "outputs": [
    {
     "name": "stdout",
     "output_type": "stream",
     "text": [
      "Requirement already satisfied: pandas in c:\\users\\nust6\\appdata\\roaming\\python\\python311\\site-packages (2.0.3)\n",
      "Requirement already satisfied: python-dateutil>=2.8.2 in c:\\users\\nust6\\appdata\\roaming\\python\\python311\\site-packages (from pandas) (2.8.2)\n",
      "Requirement already satisfied: pytz>=2020.1 in c:\\users\\nust6\\appdata\\roaming\\python\\python311\\site-packages (from pandas) (2023.3)\n",
      "Requirement already satisfied: tzdata>=2022.1 in c:\\users\\nust6\\appdata\\roaming\\python\\python311\\site-packages (from pandas) (2023.3)\n",
      "Requirement already satisfied: numpy>=1.21.0 in c:\\users\\nust6\\appdata\\roaming\\python\\python311\\site-packages (from pandas) (1.25.2)\n",
      "Requirement already satisfied: six>=1.5 in c:\\users\\nust6\\appdata\\roaming\\python\\python311\\site-packages (from python-dateutil>=2.8.2->pandas) (1.16.0)\n",
      "Note: you may need to restart the kernel to use updated packages.\n",
      "Requirement already satisfied: tqdm in c:\\users\\nust6\\appdata\\roaming\\python\\python311\\site-packages (4.66.1)\n",
      "Requirement already satisfied: colorama in c:\\users\\nust6\\appdata\\roaming\\python\\python311\\site-packages (from tqdm) (0.4.6)\n",
      "Note: you may need to restart the kernel to use updated packages.\n",
      "Requirement already satisfied: spacy in c:\\users\\nust6\\appdata\\roaming\\python\\python311\\site-packages (3.7.2)\n",
      "Requirement already satisfied: spacy-legacy<3.1.0,>=3.0.11 in c:\\users\\nust6\\appdata\\roaming\\python\\python311\\site-packages (from spacy) (3.0.12)\n",
      "Requirement already satisfied: spacy-loggers<2.0.0,>=1.0.0 in c:\\users\\nust6\\appdata\\roaming\\python\\python311\\site-packages (from spacy) (1.0.5)\n",
      "Requirement already satisfied: murmurhash<1.1.0,>=0.28.0 in c:\\users\\nust6\\appdata\\roaming\\python\\python311\\site-packages (from spacy) (1.0.10)\n",
      "Requirement already satisfied: cymem<2.1.0,>=2.0.2 in c:\\users\\nust6\\appdata\\roaming\\python\\python311\\site-packages (from spacy) (2.0.8)\n",
      "Requirement already satisfied: preshed<3.1.0,>=3.0.2 in c:\\users\\nust6\\appdata\\roaming\\python\\python311\\site-packages (from spacy) (3.0.9)\n",
      "Requirement already satisfied: thinc<8.3.0,>=8.1.8 in c:\\users\\nust6\\appdata\\roaming\\python\\python311\\site-packages (from spacy) (8.2.1)\n",
      "Requirement already satisfied: wasabi<1.2.0,>=0.9.1 in c:\\users\\nust6\\appdata\\roaming\\python\\python311\\site-packages (from spacy) (1.1.2)\n",
      "Requirement already satisfied: srsly<3.0.0,>=2.4.3 in c:\\users\\nust6\\appdata\\roaming\\python\\python311\\site-packages (from spacy) (2.4.8)\n",
      "Requirement already satisfied: catalogue<2.1.0,>=2.0.6 in c:\\users\\nust6\\appdata\\roaming\\python\\python311\\site-packages (from spacy) (2.0.10)\n",
      "Requirement already satisfied: weasel<0.4.0,>=0.1.0 in c:\\users\\nust6\\appdata\\roaming\\python\\python311\\site-packages (from spacy) (0.3.4)\n",
      "Requirement already satisfied: typer<0.10.0,>=0.3.0 in c:\\users\\nust6\\appdata\\roaming\\python\\python311\\site-packages (from spacy) (0.9.0)\n",
      "Requirement already satisfied: smart-open<7.0.0,>=5.2.1 in c:\\users\\nust6\\appdata\\roaming\\python\\python311\\site-packages (from spacy) (6.4.0)\n",
      "Requirement already satisfied: tqdm<5.0.0,>=4.38.0 in c:\\users\\nust6\\appdata\\roaming\\python\\python311\\site-packages (from spacy) (4.66.1)\n",
      "Requirement already satisfied: requests<3.0.0,>=2.13.0 in c:\\users\\nust6\\appdata\\roaming\\python\\python311\\site-packages (from spacy) (2.28.2)\n",
      "Requirement already satisfied: pydantic!=1.8,!=1.8.1,<3.0.0,>=1.7.4 in c:\\users\\nust6\\appdata\\roaming\\python\\python311\\site-packages (from spacy) (2.5.2)\n",
      "Requirement already satisfied: jinja2 in c:\\users\\nust6\\appdata\\roaming\\python\\python311\\site-packages (from spacy) (3.1.2)\n",
      "Requirement already satisfied: setuptools in c:\\users\\nust6\\appdata\\local\\programs\\python\\python311\\lib\\site-packages (from spacy) (65.5.0)\n",
      "Requirement already satisfied: packaging>=20.0 in c:\\users\\nust6\\appdata\\roaming\\python\\python311\\site-packages (from spacy) (23.2)\n",
      "Requirement already satisfied: langcodes<4.0.0,>=3.2.0 in c:\\users\\nust6\\appdata\\roaming\\python\\python311\\site-packages (from spacy) (3.3.0)\n",
      "Requirement already satisfied: numpy>=1.19.0 in c:\\users\\nust6\\appdata\\roaming\\python\\python311\\site-packages (from spacy) (1.25.2)\n",
      "Requirement already satisfied: annotated-types>=0.4.0 in c:\\users\\nust6\\appdata\\roaming\\python\\python311\\site-packages (from pydantic!=1.8,!=1.8.1,<3.0.0,>=1.7.4->spacy) (0.6.0)\n",
      "Requirement already satisfied: pydantic-core==2.14.5 in c:\\users\\nust6\\appdata\\roaming\\python\\python311\\site-packages (from pydantic!=1.8,!=1.8.1,<3.0.0,>=1.7.4->spacy) (2.14.5)\n",
      "Requirement already satisfied: typing-extensions>=4.6.1 in c:\\users\\nust6\\appdata\\roaming\\python\\python311\\site-packages (from pydantic!=1.8,!=1.8.1,<3.0.0,>=1.7.4->spacy) (4.8.0)\n",
      "Requirement already satisfied: charset-normalizer<4,>=2 in c:\\users\\nust6\\appdata\\roaming\\python\\python311\\site-packages (from requests<3.0.0,>=2.13.0->spacy) (3.0.1)\n",
      "Requirement already satisfied: idna<4,>=2.5 in c:\\users\\nust6\\appdata\\roaming\\python\\python311\\site-packages (from requests<3.0.0,>=2.13.0->spacy) (3.4)\n",
      "Requirement already satisfied: urllib3<1.27,>=1.21.1 in c:\\users\\nust6\\appdata\\roaming\\python\\python311\\site-packages (from requests<3.0.0,>=2.13.0->spacy) (1.26.15)\n",
      "Requirement already satisfied: certifi>=2017.4.17 in c:\\users\\nust6\\appdata\\roaming\\python\\python311\\site-packages (from requests<3.0.0,>=2.13.0->spacy) (2022.12.7)\n",
      "Requirement already satisfied: blis<0.8.0,>=0.7.8 in c:\\users\\nust6\\appdata\\roaming\\python\\python311\\site-packages (from thinc<8.3.0,>=8.1.8->spacy) (0.7.11)\n",
      "Requirement already satisfied: confection<1.0.0,>=0.0.1 in c:\\users\\nust6\\appdata\\roaming\\python\\python311\\site-packages (from thinc<8.3.0,>=8.1.8->spacy) (0.1.3)\n",
      "Requirement already satisfied: colorama in c:\\users\\nust6\\appdata\\roaming\\python\\python311\\site-packages (from tqdm<5.0.0,>=4.38.0->spacy) (0.4.6)\n",
      "Requirement already satisfied: click<9.0.0,>=7.1.1 in c:\\users\\nust6\\appdata\\roaming\\python\\python311\\site-packages (from typer<0.10.0,>=0.3.0->spacy) (8.1.7)\n",
      "Requirement already satisfied: cloudpathlib<0.17.0,>=0.7.0 in c:\\users\\nust6\\appdata\\roaming\\python\\python311\\site-packages (from weasel<0.4.0,>=0.1.0->spacy) (0.16.0)\n",
      "Requirement already satisfied: MarkupSafe>=2.0 in c:\\users\\nust6\\appdata\\roaming\\python\\python311\\site-packages (from jinja2->spacy) (2.1.3)\n",
      "Note: you may need to restart the kernel to use updated packages.\n"
     ]
    },
    {
     "name": "stderr",
     "output_type": "stream",
     "text": [
      "Python est introuvable. Ex�cutez sans argument pour proc�der � l\n"
     ]
    },
    {
     "name": "stdout",
     "output_type": "stream",
     "text": [
      "Collecting en-core-web-sm==3.7.1\n",
      "  Downloading https://github.com/explosion/spacy-models/releases/download/en_core_web_sm-3.7.1/en_core_web_sm-3.7.1-py3-none-any.whl (12.8 MB)\n",
      "     ---------------------------------------- 0.0/12.8 MB ? eta -:--:--\n",
      "      --------------------------------------- 0.2/12.8 MB 3.3 MB/s eta 0:00:04\n",
      "      --------------------------------------- 0.3/12.8 MB 3.4 MB/s eta 0:00:04\n",
      "     - -------------------------------------- 0.4/12.8 MB 3.7 MB/s eta 0:00:04\n",
      "     - -------------------------------------- 0.5/12.8 MB 3.7 MB/s eta 0:00:04\n",
      "     -- ------------------------------------- 0.7/12.8 MB 3.8 MB/s eta 0:00:04\n",
      "     -- ------------------------------------- 0.8/12.8 MB 3.8 MB/s eta 0:00:04\n",
      "     --- ------------------------------------ 1.0/12.8 MB 3.9 MB/s eta 0:00:04\n",
      "     --- ------------------------------------ 1.1/12.8 MB 4.0 MB/s eta 0:00:03\n",
      "     ---- ----------------------------------- 1.3/12.8 MB 3.9 MB/s eta 0:00:03\n",
      "     ---- ----------------------------------- 1.4/12.8 MB 4.0 MB/s eta 0:00:03\n",
      "     ---- ----------------------------------- 1.6/12.8 MB 4.0 MB/s eta 0:00:03\n",
      "     ----- ---------------------------------- 1.7/12.8 MB 4.1 MB/s eta 0:00:03\n",
      "     ----- ---------------------------------- 1.9/12.8 MB 4.1 MB/s eta 0:00:03\n",
      "     ------ --------------------------------- 2.0/12.8 MB 4.1 MB/s eta 0:00:03\n",
      "     ------ --------------------------------- 2.2/12.8 MB 4.0 MB/s eta 0:00:03\n",
      "     ------- -------------------------------- 2.3/12.8 MB 4.0 MB/s eta 0:00:03\n",
      "     ------- -------------------------------- 2.4/12.8 MB 4.0 MB/s eta 0:00:03\n",
      "     -------- ------------------------------- 2.6/12.8 MB 4.0 MB/s eta 0:00:03\n",
      "     -------- ------------------------------- 2.7/12.8 MB 4.0 MB/s eta 0:00:03\n",
      "     -------- ------------------------------- 2.8/12.8 MB 4.0 MB/s eta 0:00:03\n",
      "     --------- ------------------------------ 3.0/12.8 MB 4.0 MB/s eta 0:00:03\n",
      "     --------- ------------------------------ 3.2/12.8 MB 4.1 MB/s eta 0:00:03\n",
      "     ---------- ----------------------------- 3.3/12.8 MB 4.1 MB/s eta 0:00:03\n",
      "     ---------- ----------------------------- 3.4/12.8 MB 4.0 MB/s eta 0:00:03\n",
      "     ----------- ---------------------------- 3.6/12.8 MB 4.0 MB/s eta 0:00:03\n",
      "     ----------- ---------------------------- 3.7/12.8 MB 4.0 MB/s eta 0:00:03\n",
      "     ------------ --------------------------- 3.9/12.8 MB 4.0 MB/s eta 0:00:03\n",
      "     ------------ --------------------------- 4.0/12.8 MB 4.0 MB/s eta 0:00:03\n",
      "     ------------ --------------------------- 4.1/12.8 MB 4.0 MB/s eta 0:00:03\n",
      "     ------------- -------------------------- 4.3/12.8 MB 4.0 MB/s eta 0:00:03\n",
      "     ------------- -------------------------- 4.4/12.8 MB 4.0 MB/s eta 0:00:03\n",
      "     -------------- ------------------------- 4.6/12.8 MB 4.0 MB/s eta 0:00:03\n",
      "     -------------- ------------------------- 4.7/12.8 MB 4.0 MB/s eta 0:00:03\n",
      "     --------------- ------------------------ 4.9/12.8 MB 4.0 MB/s eta 0:00:02\n",
      "     --------------- ------------------------ 5.0/12.8 MB 4.0 MB/s eta 0:00:02\n",
      "     ---------------- ----------------------- 5.2/12.8 MB 4.0 MB/s eta 0:00:02\n",
      "     ---------------- ----------------------- 5.3/12.8 MB 4.0 MB/s eta 0:00:02\n",
      "     ----------------- ---------------------- 5.5/12.8 MB 4.0 MB/s eta 0:00:02\n",
      "     ----------------- ---------------------- 5.6/12.8 MB 4.0 MB/s eta 0:00:02\n",
      "     ------------------ --------------------- 5.8/12.8 MB 4.0 MB/s eta 0:00:02\n",
      "     ------------------ --------------------- 5.9/12.8 MB 4.0 MB/s eta 0:00:02\n",
      "     ------------------ --------------------- 6.1/12.8 MB 4.0 MB/s eta 0:00:02\n",
      "     ------------------- -------------------- 6.2/12.8 MB 4.0 MB/s eta 0:00:02\n",
      "     ------------------- -------------------- 6.4/12.8 MB 4.0 MB/s eta 0:00:02\n",
      "     -------------------- ------------------- 6.5/12.8 MB 4.0 MB/s eta 0:00:02\n",
      "     -------------------- ------------------- 6.6/12.8 MB 4.0 MB/s eta 0:00:02\n",
      "     --------------------- ------------------ 6.8/12.8 MB 4.0 MB/s eta 0:00:02\n",
      "     --------------------- ------------------ 6.9/12.8 MB 4.0 MB/s eta 0:00:02\n",
      "     ---------------------- ----------------- 7.1/12.8 MB 4.0 MB/s eta 0:00:02\n",
      "     ---------------------- ----------------- 7.2/12.8 MB 4.0 MB/s eta 0:00:02\n",
      "     ----------------------- ---------------- 7.4/12.8 MB 4.0 MB/s eta 0:00:02\n",
      "     ----------------------- ---------------- 7.5/12.8 MB 4.0 MB/s eta 0:00:02\n",
      "     ----------------------- ---------------- 7.6/12.8 MB 4.0 MB/s eta 0:00:02\n",
      "     ------------------------ --------------- 7.8/12.8 MB 4.0 MB/s eta 0:00:02\n",
      "     ------------------------ --------------- 8.0/12.8 MB 4.0 MB/s eta 0:00:02\n",
      "     ------------------------- -------------- 8.1/12.8 MB 4.0 MB/s eta 0:00:02\n",
      "     ------------------------- -------------- 8.2/12.8 MB 4.0 MB/s eta 0:00:02\n",
      "     -------------------------- ------------- 8.4/12.8 MB 4.0 MB/s eta 0:00:02\n",
      "     -------------------------- ------------- 8.6/12.8 MB 4.0 MB/s eta 0:00:02\n",
      "     --------------------------- ------------ 8.7/12.8 MB 4.0 MB/s eta 0:00:02\n",
      "     --------------------------- ------------ 8.8/12.8 MB 4.0 MB/s eta 0:00:01\n",
      "     ---------------------------- ----------- 9.0/12.8 MB 4.0 MB/s eta 0:00:01\n",
      "     ---------------------------- ----------- 9.1/12.8 MB 4.1 MB/s eta 0:00:01\n",
      "     ----------------------------- ---------- 9.3/12.8 MB 4.0 MB/s eta 0:00:01\n",
      "     ----------------------------- ---------- 9.5/12.8 MB 4.1 MB/s eta 0:00:01\n",
      "     ------------------------------ --------- 9.6/12.8 MB 4.0 MB/s eta 0:00:01\n",
      "     ------------------------------ --------- 9.7/12.8 MB 4.0 MB/s eta 0:00:01\n",
      "     ------------------------------ --------- 9.9/12.8 MB 4.1 MB/s eta 0:00:01\n",
      "     ------------------------------- -------- 10.0/12.8 MB 4.1 MB/s eta 0:00:01\n",
      "     ------------------------------- -------- 10.2/12.8 MB 4.0 MB/s eta 0:00:01\n",
      "     -------------------------------- ------- 10.4/12.8 MB 4.1 MB/s eta 0:00:01\n",
      "     -------------------------------- ------- 10.5/12.8 MB 4.1 MB/s eta 0:00:01\n",
      "     --------------------------------- ------ 10.6/12.8 MB 4.1 MB/s eta 0:00:01\n",
      "     --------------------------------- ------ 10.8/12.8 MB 4.1 MB/s eta 0:00:01\n",
      "     ---------------------------------- ----- 10.9/12.8 MB 4.1 MB/s eta 0:00:01\n",
      "     ---------------------------------- ----- 11.1/12.8 MB 4.1 MB/s eta 0:00:01\n",
      "     ----------------------------------- ---- 11.2/12.8 MB 4.1 MB/s eta 0:00:01\n",
      "     ----------------------------------- ---- 11.4/12.8 MB 4.1 MB/s eta 0:00:01\n",
      "     ----------------------------------- ---- 11.5/12.8 MB 4.1 MB/s eta 0:00:01\n",
      "     ------------------------------------ --- 11.7/12.8 MB 4.1 MB/s eta 0:00:01\n",
      "     ------------------------------------ --- 11.8/12.8 MB 4.1 MB/s eta 0:00:01\n",
      "     ------------------------------------- -- 12.0/12.8 MB 4.1 MB/s eta 0:00:01\n",
      "     ------------------------------------- -- 12.1/12.8 MB 4.1 MB/s eta 0:00:01\n",
      "     -------------------------------------- - 12.3/12.8 MB 4.1 MB/s eta 0:00:01\n",
      "     -------------------------------------- - 12.4/12.8 MB 4.1 MB/s eta 0:00:01\n",
      "     ---------------------------------------  12.5/12.8 MB 4.1 MB/s eta 0:00:01\n",
      "     ---------------------------------------  12.6/12.8 MB 4.1 MB/s eta 0:00:01\n",
      "     ---------------------------------------  12.8/12.8 MB 4.1 MB/s eta 0:00:01\n",
      "     ---------------------------------------  12.8/12.8 MB 4.1 MB/s eta 0:00:01\n",
      "     ---------------------------------------- 12.8/12.8 MB 4.0 MB/s eta 0:00:00\n",
      "Requirement already satisfied: spacy<3.8.0,>=3.7.2 in c:\\users\\nust6\\appdata\\roaming\\python\\python311\\site-packages (from en-core-web-sm==3.7.1) (3.7.2)\n",
      "Requirement already satisfied: spacy-legacy<3.1.0,>=3.0.11 in c:\\users\\nust6\\appdata\\roaming\\python\\python311\\site-packages (from spacy<3.8.0,>=3.7.2->en-core-web-sm==3.7.1) (3.0.12)\n",
      "Requirement already satisfied: spacy-loggers<2.0.0,>=1.0.0 in c:\\users\\nust6\\appdata\\roaming\\python\\python311\\site-packages (from spacy<3.8.0,>=3.7.2->en-core-web-sm==3.7.1) (1.0.5)\n",
      "Requirement already satisfied: murmurhash<1.1.0,>=0.28.0 in c:\\users\\nust6\\appdata\\roaming\\python\\python311\\site-packages (from spacy<3.8.0,>=3.7.2->en-core-web-sm==3.7.1) (1.0.10)\n",
      "Requirement already satisfied: cymem<2.1.0,>=2.0.2 in c:\\users\\nust6\\appdata\\roaming\\python\\python311\\site-packages (from spacy<3.8.0,>=3.7.2->en-core-web-sm==3.7.1) (2.0.8)\n",
      "Requirement already satisfied: preshed<3.1.0,>=3.0.2 in c:\\users\\nust6\\appdata\\roaming\\python\\python311\\site-packages (from spacy<3.8.0,>=3.7.2->en-core-web-sm==3.7.1) (3.0.9)\n",
      "Requirement already satisfied: thinc<8.3.0,>=8.1.8 in c:\\users\\nust6\\appdata\\roaming\\python\\python311\\site-packages (from spacy<3.8.0,>=3.7.2->en-core-web-sm==3.7.1) (8.2.1)\n",
      "Requirement already satisfied: wasabi<1.2.0,>=0.9.1 in c:\\users\\nust6\\appdata\\roaming\\python\\python311\\site-packages (from spacy<3.8.0,>=3.7.2->en-core-web-sm==3.7.1) (1.1.2)\n",
      "Requirement already satisfied: srsly<3.0.0,>=2.4.3 in c:\\users\\nust6\\appdata\\roaming\\python\\python311\\site-packages (from spacy<3.8.0,>=3.7.2->en-core-web-sm==3.7.1) (2.4.8)\n",
      "Requirement already satisfied: catalogue<2.1.0,>=2.0.6 in c:\\users\\nust6\\appdata\\roaming\\python\\python311\\site-packages (from spacy<3.8.0,>=3.7.2->en-core-web-sm==3.7.1) (2.0.10)\n",
      "Requirement already satisfied: weasel<0.4.0,>=0.1.0 in c:\\users\\nust6\\appdata\\roaming\\python\\python311\\site-packages (from spacy<3.8.0,>=3.7.2->en-core-web-sm==3.7.1) (0.3.4)\n",
      "Requirement already satisfied: typer<0.10.0,>=0.3.0 in c:\\users\\nust6\\appdata\\roaming\\python\\python311\\site-packages (from spacy<3.8.0,>=3.7.2->en-core-web-sm==3.7.1) (0.9.0)\n",
      "Requirement already satisfied: smart-open<7.0.0,>=5.2.1 in c:\\users\\nust6\\appdata\\roaming\\python\\python311\\site-packages (from spacy<3.8.0,>=3.7.2->en-core-web-sm==3.7.1) (6.4.0)\n",
      "Requirement already satisfied: tqdm<5.0.0,>=4.38.0 in c:\\users\\nust6\\appdata\\roaming\\python\\python311\\site-packages (from spacy<3.8.0,>=3.7.2->en-core-web-sm==3.7.1) (4.66.1)\n",
      "Requirement already satisfied: requests<3.0.0,>=2.13.0 in c:\\users\\nust6\\appdata\\roaming\\python\\python311\\site-packages (from spacy<3.8.0,>=3.7.2->en-core-web-sm==3.7.1) (2.28.2)\n",
      "Requirement already satisfied: pydantic!=1.8,!=1.8.1,<3.0.0,>=1.7.4 in c:\\users\\nust6\\appdata\\roaming\\python\\python311\\site-packages (from spacy<3.8.0,>=3.7.2->en-core-web-sm==3.7.1) (2.5.2)\n",
      "Requirement already satisfied: jinja2 in c:\\users\\nust6\\appdata\\roaming\\python\\python311\\site-packages (from spacy<3.8.0,>=3.7.2->en-core-web-sm==3.7.1) (3.1.2)\n",
      "Requirement already satisfied: setuptools in c:\\users\\nust6\\appdata\\local\\programs\\python\\python311\\lib\\site-packages (from spacy<3.8.0,>=3.7.2->en-core-web-sm==3.7.1) (65.5.0)\n",
      "Requirement already satisfied: packaging>=20.0 in c:\\users\\nust6\\appdata\\roaming\\python\\python311\\site-packages (from spacy<3.8.0,>=3.7.2->en-core-web-sm==3.7.1) (23.2)\n",
      "Requirement already satisfied: langcodes<4.0.0,>=3.2.0 in c:\\users\\nust6\\appdata\\roaming\\python\\python311\\site-packages (from spacy<3.8.0,>=3.7.2->en-core-web-sm==3.7.1) (3.3.0)\n",
      "Requirement already satisfied: numpy>=1.19.0 in c:\\users\\nust6\\appdata\\roaming\\python\\python311\\site-packages (from spacy<3.8.0,>=3.7.2->en-core-web-sm==3.7.1) (1.25.2)\n",
      "Requirement already satisfied: annotated-types>=0.4.0 in c:\\users\\nust6\\appdata\\roaming\\python\\python311\\site-packages (from pydantic!=1.8,!=1.8.1,<3.0.0,>=1.7.4->spacy<3.8.0,>=3.7.2->en-core-web-sm==3.7.1) (0.6.0)\n",
      "Requirement already satisfied: pydantic-core==2.14.5 in c:\\users\\nust6\\appdata\\roaming\\python\\python311\\site-packages (from pydantic!=1.8,!=1.8.1,<3.0.0,>=1.7.4->spacy<3.8.0,>=3.7.2->en-core-web-sm==3.7.1) (2.14.5)\n",
      "Requirement already satisfied: typing-extensions>=4.6.1 in c:\\users\\nust6\\appdata\\roaming\\python\\python311\\site-packages (from pydantic!=1.8,!=1.8.1,<3.0.0,>=1.7.4->spacy<3.8.0,>=3.7.2->en-core-web-sm==3.7.1) (4.8.0)\n",
      "Requirement already satisfied: charset-normalizer<4,>=2 in c:\\users\\nust6\\appdata\\roaming\\python\\python311\\site-packages (from requests<3.0.0,>=2.13.0->spacy<3.8.0,>=3.7.2->en-core-web-sm==3.7.1) (3.0.1)\n",
      "Requirement already satisfied: idna<4,>=2.5 in c:\\users\\nust6\\appdata\\roaming\\python\\python311\\site-packages (from requests<3.0.0,>=2.13.0->spacy<3.8.0,>=3.7.2->en-core-web-sm==3.7.1) (3.4)\n",
      "Requirement already satisfied: urllib3<1.27,>=1.21.1 in c:\\users\\nust6\\appdata\\roaming\\python\\python311\\site-packages (from requests<3.0.0,>=2.13.0->spacy<3.8.0,>=3.7.2->en-core-web-sm==3.7.1) (1.26.15)\n",
      "Requirement already satisfied: certifi>=2017.4.17 in c:\\users\\nust6\\appdata\\roaming\\python\\python311\\site-packages (from requests<3.0.0,>=2.13.0->spacy<3.8.0,>=3.7.2->en-core-web-sm==3.7.1) (2022.12.7)\n",
      "Requirement already satisfied: blis<0.8.0,>=0.7.8 in c:\\users\\nust6\\appdata\\roaming\\python\\python311\\site-packages (from thinc<8.3.0,>=8.1.8->spacy<3.8.0,>=3.7.2->en-core-web-sm==3.7.1) (0.7.11)\n",
      "Requirement already satisfied: confection<1.0.0,>=0.0.1 in c:\\users\\nust6\\appdata\\roaming\\python\\python311\\site-packages (from thinc<8.3.0,>=8.1.8->spacy<3.8.0,>=3.7.2->en-core-web-sm==3.7.1) (0.1.3)\n",
      "Requirement already satisfied: colorama in c:\\users\\nust6\\appdata\\roaming\\python\\python311\\site-packages (from tqdm<5.0.0,>=4.38.0->spacy<3.8.0,>=3.7.2->en-core-web-sm==3.7.1) (0.4.6)\n",
      "Requirement already satisfied: click<9.0.0,>=7.1.1 in c:\\users\\nust6\\appdata\\roaming\\python\\python311\\site-packages (from typer<0.10.0,>=0.3.0->spacy<3.8.0,>=3.7.2->en-core-web-sm==3.7.1) (8.1.7)\n",
      "Requirement already satisfied: cloudpathlib<0.17.0,>=0.7.0 in c:\\users\\nust6\\appdata\\roaming\\python\\python311\\site-packages (from weasel<0.4.0,>=0.1.0->spacy<3.8.0,>=3.7.2->en-core-web-sm==3.7.1) (0.16.0)\n",
      "Requirement already satisfied: MarkupSafe>=2.0 in c:\\users\\nust6\\appdata\\roaming\\python\\python311\\site-packages (from jinja2->spacy<3.8.0,>=3.7.2->en-core-web-sm==3.7.1) (2.1.3)\n",
      "\u001b[38;5;2m✔ Download and installation successful\u001b[0m\n",
      "You can now load the package via spacy.load('en_core_web_sm')\n",
      "Requirement already satisfied: scikit-learn in c:\\users\\nust6\\appdata\\local\\programs\\python\\python311\\lib\\site-packages (1.3.2)\n",
      "Requirement already satisfied: numpy<2.0,>=1.17.3 in c:\\users\\nust6\\appdata\\roaming\\python\\python311\\site-packages (from scikit-learn) (1.25.2)\n",
      "Requirement already satisfied: scipy>=1.5.0 in c:\\users\\nust6\\appdata\\local\\programs\\python\\python311\\lib\\site-packages (from scikit-learn) (1.11.4)\n",
      "Requirement already satisfied: joblib>=1.1.1 in c:\\users\\nust6\\appdata\\local\\programs\\python\\python311\\lib\\site-packages (from scikit-learn) (1.3.2)\n",
      "Requirement already satisfied: threadpoolctl>=2.0.0 in c:\\users\\nust6\\appdata\\local\\programs\\python\\python311\\lib\\site-packages (from scikit-learn) (3.2.0)\n",
      "Note: you may need to restart the kernel to use updated packages.\n"
     ]
    }
   ],
   "source": [
    "%pip install pandas\n",
    "%pip install tqdm\n",
    "%pip install spacy\n",
    "!python3 -m spacy download en_core_web_sm\n",
    "!python -m spacy download en_core_web_sm\n",
    "%pip install scikit-learn\n",
    "\n",
    "import pandas as pd\n",
    "import os\n",
    "import json\n",
    "import gzip\n",
    "from tqdm import tqdm\n",
    "from sklearn.ensemble import GradientBoostingClassifier\n",
    "from sklearn.feature_extraction.text import CountVectorizer\n",
    "from sklearn.model_selection import train_test_split, GridSearchCV\n",
    "from sklearn.neighbors import KNeighborsClassifier\n",
    "from sklearn.ensemble import RandomForestClassifier\n",
    "from sklearn.metrics import classification_report\n",
    "import spacy\n",
    "from tqdm import tqdm"
   ]
  },
  {
   "attachments": {},
   "cell_type": "markdown",
   "metadata": {},
   "source": [
    "### Definition des variables globales"
   ]
  },
  {
   "cell_type": "code",
   "execution_count": 2,
   "metadata": {},
   "outputs": [],
   "source": [
    "BOLD = '\\033[1m' # ACTIONS\n",
    "BLUE = '\\033[94m' # ACTIONSv\n",
    "RESET = '\\033[0m'\n",
    "RED = '\\033[91m' # ERRORS\n",
    "GREEN = '\\033[92m' # SUCCESS\n",
    "YELLOW = '\\033[93m' # INFORMATIONS"
   ]
  },
  {
   "attachments": {},
   "cell_type": "markdown",
   "metadata": {},
   "source": [
    "### Nettoyage des données\n",
    "Ce nettoyage consiste en ....."
   ]
  },
  {
   "cell_type": "code",
   "execution_count": 30,
   "metadata": {},
   "outputs": [],
   "source": [
    "def traitementData():\n",
    "    print(BOLD+BLUE+\"\\n\\nChargement des données...\\n\\n\")\n",
    "    \n",
    "    def parse(path):\n",
    "        g = gzip.open(path, 'rb')\n",
    "        for l in g:\n",
    "            yield json.loads(l)\n",
    "            \n",
    "    def getDF(path):\n",
    "        i = 0\n",
    "        df = {}\n",
    "        for d in parse(path):\n",
    "            df[i] = d\n",
    "            i += 1\n",
    "        return pd.DataFrame.from_dict(df, orient='index')\n",
    "    \n",
    "    df = getDF(\"./data/Video_Games.json.gz\")\n",
    "    \n",
    "    df = df.drop(['style', 'image'], axis=1)\n",
    "    \n",
    "    df=df.dropna(subset=[\"reviewText\"])\n",
    "\n",
    "    df['vote'] = df['vote'].fillna(0.0)\n",
    "\n",
    "    df['reviewTime'] = pd.to_datetime(df['reviewTime'], format='%m %d, %Y')\n",
    "\n",
    "    df['year'] = df['reviewTime'].dt.year\n",
    "\n",
    "    os.makedirs('./split_data', exist_ok=True)\n",
    "\n",
    "    for year, group in df.groupby('year'):\n",
    "        if not os.path.exists(f'./split_data/reviews_{year}.json'):\n",
    "            group.to_json(f'./split_data/reviews_{year}.json', orient='records', lines=True)\n",
    "            print(GREEN + f'Fichier JSON créé pour l\\'année {year}' + RESET)\n",
    "        else:\n",
    "            print(GREEN + f'Fichier JSON pour l\\'année {year} existe déjà !' + RESET)\n",
    "        \n",
    "        group=group.drop_duplicates(subset=[\"asin\",\"reviewerID\",\"vote\"], keep='last', inplace=True)\n",
    "        if group!=None:\n",
    "            print(f\"{RED}Problème de doublons sur : {group}\")\n",
    "        else:\n",
    "            print(f\"{YELLOW}PAS DE DOUBLONS\")\n",
    "\n",
    "\n",
    "    print(BLUE+'*\\n\\n'+RESET+BOLD+\"Dimensions du DataFrame => \"+YELLOW+f\"{df.shape}\" + RESET)\n",
    "    print(BOLD+\"\\nColonnes => \"+YELLOW+f\"{df.columns.to_list()}\"+RESET)\n",
    "    print(BOLD+\"\\nNombre de textes d'avis null => \"+YELLOW+f\"{df['reviewText'].isnull().sum()}\"+RESET)\n",
    "    print(BOLD+\"\\nNombre de titres d'avis null => \"+YELLOW+f\"{df['summary'].isnull().sum()}\"+RESET)\n",
    "    print(BOLD+\"\\nNombre de notes null => \"+YELLOW+f\"{df['overall'].isnull().sum()}\"+RESET)\n",
    "    print(BOLD+\"\\nNombre de votes null => \"+YELLOW+f\"{df['vote'].isnull().sum()}\"+RESET)"
   ]
  },
  {
   "cell_type": "code",
   "execution_count": 31,
   "metadata": {},
   "outputs": [
    {
     "name": "stdout",
     "output_type": "stream",
     "text": [
      "\u001b[1m\u001b[94m\n",
      "\n",
      "Chargement des données...\n",
      "\n",
      "\n",
      "\u001b[92mFichier JSON pour l'année 1997 existe déjà !\u001b[0m\n",
      "\u001b[93mPAS DE DOUBLONS\n",
      "\u001b[92mFichier JSON pour l'année 1998 existe déjà !\u001b[0m\n",
      "\u001b[93mPAS DE DOUBLONS\n",
      "\u001b[92mFichier JSON pour l'année 1999 existe déjà !\u001b[0m\n",
      "\u001b[93mPAS DE DOUBLONS\n",
      "\u001b[92mFichier JSON pour l'année 2000 existe déjà !\u001b[0m\n",
      "\u001b[93mPAS DE DOUBLONS\n",
      "\u001b[92mFichier JSON pour l'année 2001 existe déjà !\u001b[0m\n",
      "\u001b[93mPAS DE DOUBLONS\n",
      "\u001b[92mFichier JSON pour l'année 2002 existe déjà !\u001b[0m\n",
      "\u001b[93mPAS DE DOUBLONS\n",
      "\u001b[92mFichier JSON pour l'année 2003 existe déjà !\u001b[0m\n",
      "\u001b[93mPAS DE DOUBLONS\n",
      "\u001b[92mFichier JSON pour l'année 2004 existe déjà !\u001b[0m\n",
      "\u001b[93mPAS DE DOUBLONS\n",
      "\u001b[92mFichier JSON pour l'année 2005 existe déjà !\u001b[0m\n",
      "\u001b[93mPAS DE DOUBLONS\n",
      "\u001b[92mFichier JSON pour l'année 2006 existe déjà !\u001b[0m\n",
      "\u001b[93mPAS DE DOUBLONS\n",
      "\u001b[92mFichier JSON pour l'année 2007 existe déjà !\u001b[0m\n",
      "\u001b[93mPAS DE DOUBLONS\n",
      "\u001b[92mFichier JSON pour l'année 2008 existe déjà !\u001b[0m\n",
      "\u001b[93mPAS DE DOUBLONS\n",
      "\u001b[92mFichier JSON pour l'année 2009 existe déjà !\u001b[0m\n",
      "\u001b[93mPAS DE DOUBLONS\n",
      "\u001b[92mFichier JSON pour l'année 2010 existe déjà !\u001b[0m\n",
      "\u001b[93mPAS DE DOUBLONS\n",
      "\u001b[92mFichier JSON pour l'année 2011 existe déjà !\u001b[0m\n",
      "\u001b[93mPAS DE DOUBLONS\n",
      "\u001b[92mFichier JSON pour l'année 2012 existe déjà !\u001b[0m\n",
      "\u001b[93mPAS DE DOUBLONS\n",
      "\u001b[92mFichier JSON pour l'année 2013 existe déjà !\u001b[0m\n",
      "\u001b[93mPAS DE DOUBLONS\n",
      "\u001b[92mFichier JSON pour l'année 2014 existe déjà !\u001b[0m\n",
      "\u001b[93mPAS DE DOUBLONS\n",
      "\u001b[92mFichier JSON pour l'année 2015 existe déjà !\u001b[0m\n",
      "\u001b[93mPAS DE DOUBLONS\n",
      "\u001b[92mFichier JSON pour l'année 2016 existe déjà !\u001b[0m\n",
      "\u001b[93mPAS DE DOUBLONS\n",
      "\u001b[92mFichier JSON pour l'année 2017 existe déjà !\u001b[0m\n",
      "\u001b[93mPAS DE DOUBLONS\n",
      "\u001b[92mFichier JSON pour l'année 2018 existe déjà !\u001b[0m\n",
      "\u001b[93mPAS DE DOUBLONS\n",
      "\u001b[94m*\n",
      "\n",
      "\u001b[0m\u001b[1mDimensions du DataFrame => \u001b[93m(2563634, 11)\u001b[0m\n",
      "\u001b[1m\n",
      "Colonnes => \u001b[93m['overall', 'verified', 'reviewTime', 'reviewerID', 'asin', 'reviewerName', 'reviewText', 'summary', 'unixReviewTime', 'vote', 'year']\u001b[0m\n",
      "\u001b[1m\n",
      "Nombre de textes d'avis null => \u001b[93m0\u001b[0m\n",
      "\u001b[1m\n",
      "Nombre de titres d'avis null => \u001b[93m748\u001b[0m\n",
      "\u001b[1m\n",
      "Nombre de notes null => \u001b[93m0\u001b[0m\n",
      "\u001b[1m\n",
      "Nombre de votes null => \u001b[93m0\u001b[0m\n"
     ]
    }
   ],
   "source": [
    "traitementData()"
   ]
  },
  {
   "attachments": {},
   "cell_type": "markdown",
   "metadata": {},
   "source": [
    "### Sélection du jeu de données à utiliser"
   ]
  },
  {
   "cell_type": "code",
   "execution_count": 5,
   "metadata": {},
   "outputs": [
    {
     "name": "stdout",
     "output_type": "stream",
     "text": [
      "\u001b[92mAucun reviewText null\n"
     ]
    }
   ],
   "source": [
    "df=pd.read_json('./split_data/reviews_2001.json', lines=True)\n",
    "\n",
    "df = df.dropna(subset=['reviewText'])\n",
    "df = df[df['reviewText'] != '']\n",
    "df['label'] = df['overall'].apply(lambda x: 1 if x > 3 else 0) \n",
    "\n",
    "if not df['reviewText'].notna().all():\n",
    "    print(RED+\"Certains reviewText sont null\")\n",
    "else:\n",
    "    print(GREEN+\"Aucun reviewText null\")"
   ]
  },
  {
   "attachments": {},
   "cell_type": "markdown",
   "metadata": {},
   "source": [
    "### Traitement linguistique avec Spacy\n"
   ]
  },
  {
   "cell_type": "code",
   "execution_count": 6,
   "metadata": {},
   "outputs": [
    {
     "name": "stderr",
     "output_type": "stream",
     "text": [
      "Prétraitement des textes: 100%|██████████| 23073/23073 [04:25<00:00, 86.96it/s] "
     ]
    },
    {
     "name": "stdout",
     "output_type": "stream",
     "text": [
      "\u001b[92m\n",
      "Traitement liguistique réussi\u001b[0m\n"
     ]
    },
    {
     "name": "stderr",
     "output_type": "stream",
     "text": [
      "\n"
     ]
    }
   ],
   "source": [
    "nlp = spacy.load(\"en_core_web_sm\")\n",
    "t = tqdm(total=df.shape[0], desc=\"Prétraitement des textes\")\n",
    "\n",
    "\n",
    "def preprocess(text):\n",
    "    return [' '.join([token.lemma_ for token in doc if not token.is_stop and not token.is_punct]) \n",
    "            for doc in tqdm(nlp.pipe(text, batch_size=50    ), total=len(text), desc=\"Prétraitement des textes\")]\n",
    "\n",
    "def traitementLinguistique(): \n",
    "    #print(BOLD+BLUE+\"\\n\\nTraitement linguistique...\\n\\n*\")\n",
    "    try:\n",
    "        df['processed_text'] = preprocess(df['reviewText'].tolist())\n",
    "        print(GREEN+\"\\nTraitement liguistique réussi\"+RESET)\n",
    "    except Exception as e:\n",
    "        print(RED+\"\\nErreur lors du traitement linguistique => \"+RESET+YELLOW+f\"{e}\"+RESET)\n",
    "\n",
    "traitementLinguistique()"
   ]
  },
  {
   "attachments": {},
   "cell_type": "markdown",
   "metadata": {},
   "source": [
    "# Classifieur Binaire"
   ]
  },
  {
   "attachments": {},
   "cell_type": "markdown",
   "metadata": {},
   "source": [
    "### Vectorisation des commentaires\n"
   ]
  },
  {
   "cell_type": "code",
   "execution_count": 7,
   "metadata": {},
   "outputs": [
    {
     "name": "stdout",
     "output_type": "stream",
     "text": [
      "\u001b[93mVECTOR SHAPE : \u001b[0m(23073, 46290)\n",
      "\u001b[92mDonnées splittées avec succès\u001b[0m\n"
     ]
    }
   ],
   "source": [
    "vector = CountVectorizer()\n",
    "X = vector.fit_transform(df['processed_text'])\n",
    "Y = df['label']\n",
    "print(YELLOW+\"VECTOR SHAPE : \"+RESET+f\"{X.shape}\")\n",
    "\n",
    "try:\n",
    "    X_train, X_test, Y_train, Y_test = train_test_split(X, Y, test_size=0.2, random_state=42)\n",
    "    print(GREEN+\"Données splittées avec succès\"+RESET)\n",
    "except:\n",
    "    print(RED+\"Erreur lors du split des données\"+RESET)"
   ]
  },
  {
   "attachments": {},
   "cell_type": "markdown",
   "metadata": {},
   "source": [
    "### Création du classifieur"
   ]
  },
  {
   "cell_type": "code",
   "execution_count": 8,
   "metadata": {},
   "outputs": [
    {
     "name": "stdout",
     "output_type": "stream",
     "text": [
      "\u001b[94mCréation du modèle KNN...\u001b[0m\n",
      "\u001b[92mModèle KNN créé avec succès\u001b[0m\n"
     ]
    }
   ],
   "source": [
    "print(BLUE+\"Création du modèle KNN...\"+RESET)\n",
    "try:\n",
    "    knn = KNeighborsClassifier()\n",
    "    knnSearch = GridSearchCV(knn, {'n_neighbors': [3, 5, 7, 9]})\n",
    "    knnSearch.fit(X_train, Y_train)\n",
    "    print(GREEN+\"Modèle KNN créé avec succès\"+RESET)\n",
    "except:\n",
    "    print(RED+\"Erreur lors de la création du modèle KNN\"+RESET)"
   ]
  },
  {
   "attachments": {},
   "cell_type": "markdown",
   "metadata": {},
   "source": [
    "### Évaluation du classifieur"
   ]
  },
  {
   "cell_type": "code",
   "execution_count": 9,
   "metadata": {},
   "outputs": [
    {
     "name": "stdout",
     "output_type": "stream",
     "text": [
      "\u001b[93mRésultats du modèle KNN :\u001b[0m\n",
      "              precision    recall  f1-score   support\n",
      "\n",
      "           0       0.61      0.05      0.09      1115\n",
      "           1       0.77      0.99      0.86      3500\n",
      "\n",
      "    accuracy                           0.76      4615\n",
      "   macro avg       0.69      0.52      0.47      4615\n",
      "weighted avg       0.73      0.76      0.68      4615\n",
      "\n"
     ]
    }
   ],
   "source": [
    "predictions = knnSearch.predict(X_test)\n",
    "print(YELLOW+\"Résultats du modèle KNN :\"+RESET)\n",
    "print(classification_report(Y_test, predictions))"
   ]
  },
  {
   "attachments": {},
   "cell_type": "markdown",
   "metadata": {},
   "source": [
    "### Test du classifieur"
   ]
  },
  {
   "cell_type": "code",
   "execution_count": 10,
   "metadata": {},
   "outputs": [
    {
     "name": "stderr",
     "output_type": "stream",
     "text": [
      "Prétraitement des textes: 100%|██████████| 1/1 [00:00<00:00, 87.21it/s]\n",
      "Prétraitement des textes: 100%|██████████| 1/1 [00:00<00:00, 222.19it/s]\n",
      "Prétraitement des textes: 100%|██████████| 1/1 [00:00<00:00, 99.98it/s]"
     ]
    },
    {
     "name": "stdout",
     "output_type": "stream",
     "text": [
      "\u001b[94mTest du modèle KNN :\u001b[0m\n",
      "\u001b[93mtest1 (expected 1) : [1]\n",
      "test2 (expected 1) : [1]\n",
      "test3 (expected 0) : [0]\u001b[0m\n"
     ]
    },
    {
     "name": "stderr",
     "output_type": "stream",
     "text": [
      "\n"
     ]
    }
   ],
   "source": [
    "test1 = knnSearch.predict(vector.transform(preprocess([\"I think I've already written a review for this, but I wanted to add that the engine is much improved over the origanal.  In the first unreal I got an average of 10-20 fps DURING gameplay and 50 or so max (not using timedemo 1 during intro) and in UT I get 40-60+ average and even 100+ max.  This game has been so incredebly improved that I get higher frame rates  with better graphics!\"])))\n",
    "test2 = knnSearch.predict(vector.transform(preprocess(['I love this game !'])))\n",
    "test3 = knnSearch.predict(vector.transform(preprocess([\"Where to begin?  How about...not fun.  Bad graphics+bad gameplay+bad sound+no replay value=bad game.  The saddest part is that Eidos put so much money into this game that good studios (i.e. Looking Glass) ended up  shutting down.  Quake II is still more fun than this!  They should have  pulled the plug on Ion Storm a long time ago.\"])))\n",
    "\n",
    "print(BLUE+\"Test du modèle KNN :\"+RESET)\n",
    "print(YELLOW+f\"test1 (expected 1) : {test1}\")\n",
    "print(f\"test2 (expected 1) : {test2}\")\n",
    "print(f\"test3 (expected 0) : {test3}\"+RESET)"
   ]
  },
  {
   "attachments": {},
   "cell_type": "markdown",
   "metadata": {},
   "source": [
    "# Classifieur Multiclasses"
   ]
  },
  {
   "attachments": {},
   "cell_type": "markdown",
   "metadata": {},
   "source": [
    "### Vectorisation des commentaires\n"
   ]
  },
  {
   "cell_type": "code",
   "execution_count": 11,
   "metadata": {},
   "outputs": [
    {
     "name": "stdout",
     "output_type": "stream",
     "text": [
      "\u001b[93mVECTOR SHAPE : \u001b[0m(23073, 46290)\n",
      "\u001b[92mDonnées splittées avec succès\u001b[0m\n"
     ]
    }
   ],
   "source": [
    "vector = CountVectorizer()\n",
    "X = vector.fit_transform(df['processed_text'])\n",
    "Y = df['overall']\n",
    "print(YELLOW+\"VECTOR SHAPE : \"+RESET+f\"{X.shape}\")\n",
    "\n",
    "try:\n",
    "    X_train, X_test, Y_train, Y_test = train_test_split(X, Y, test_size=0.2, random_state=42)\n",
    "    print(GREEN+\"Données splittées avec succès\"+RESET)\n",
    "except:\n",
    "    print(RED+\"Erreur lors du split des données\"+RESET)"
   ]
  },
  {
   "attachments": {},
   "cell_type": "markdown",
   "metadata": {},
   "source": [
    "### Création du classifieur multiclasse"
   ]
  },
  {
   "cell_type": "code",
   "execution_count": 21,
   "metadata": {},
   "outputs": [
    {
     "name": "stdout",
     "output_type": "stream",
     "text": [
      "\u001b[94mCréation du modèle KNN multiclasse...\u001b[0m\n",
      "\u001b[92mModèle KNN multiclasse créé avec succès\u001b[0m\n"
     ]
    }
   ],
   "source": [
    "print(BLUE+\"Création du modèle KNN multiclasse...\"+RESET)\n",
    "try:\n",
    "    knnMulti = KNeighborsClassifier()\n",
    "    knnSearchMulti = GridSearchCV(knnMulti, {'n_neighbors': [3, 5, 7, 9]})\n",
    "    knnSearchMulti.fit(X_train, Y_train)\n",
    "    print(GREEN+\"Modèle KNN multiclasse créé avec succès\"+RESET)\n",
    "except:\n",
    "    print(RED+\"Erreur lors de la création du modèle KNN multiclasse\"+RESET)"
   ]
  },
  {
   "attachments": {},
   "cell_type": "markdown",
   "metadata": {},
   "source": [
    "### Évaluation du classifieur multiclasse"
   ]
  },
  {
   "cell_type": "code",
   "execution_count": 13,
   "metadata": {},
   "outputs": [
    {
     "name": "stderr",
     "output_type": "stream",
     "text": [
      "Prétraitement des textes: 100%|██████████| 1/1 [00:00<00:00, 79.99it/s]\n",
      "Prétraitement des textes: 100%|██████████| 1/1 [00:00<00:00, 105.23it/s]\n",
      "Prétraitement des textes: 100%|██████████| 1/1 [00:00<00:00, 39.21it/s]"
     ]
    },
    {
     "name": "stdout",
     "output_type": "stream",
     "text": [
      "\u001b[94mTest du modèle KNN multiclasses :\u001b[0m\n",
      "\u001b[93mtest1 (expected 5) : [5]\n",
      "test2 (expected 1) : [1]\n",
      "test3 (expected 1) : [5]\u001b[0m\n"
     ]
    },
    {
     "name": "stderr",
     "output_type": "stream",
     "text": [
      "\n"
     ]
    },
    {
     "name": "stdout",
     "output_type": "stream",
     "text": [
      "\u001b[93mRésultats du modèle KNN :\u001b[0m\n",
      "              precision    recall  f1-score   support\n",
      "\n",
      "           1       0.40      0.04      0.08       377\n",
      "           2       0.10      0.00      0.01       285\n",
      "           3       0.13      0.00      0.01       453\n",
      "           4       0.24      0.03      0.05       909\n",
      "           5       0.57      0.98      0.72      2591\n",
      "\n",
      "    accuracy                           0.56      4615\n",
      "   macro avg       0.29      0.21      0.17      4615\n",
      "weighted avg       0.42      0.56      0.42      4615\n",
      "\n"
     ]
    }
   ],
   "source": [
    "test1 = knnSearchMulti.predict(vector.transform(preprocess([\"I think I've already written a review for this, but I wanted to add that the engine is much improved over the origanal.  In the first unreal I got an average of 10-20 fps DURING gameplay and 50 or so max (not using timedemo 1 during intro) and in UT I get 40-60+ average and even 100+ max.  This game has been so incredebly improved that I get higher frame rates  with better graphics!\"])))\n",
    "test2 = knnSearchMulti.predict(vector.transform(preprocess([\"Where to begin?  How about...not fun.  Bad graphics+bad gameplay+bad sound+no replay value=bad game.  The saddest part is that Eidos put so much money into this game that good studios (i.e. Looking Glass) ended up  shutting down.  Quake II is still more fun than this!  They should have  pulled the plug on Ion Storm a long time ago.\"])))\n",
    "test6 = knnSearchMulti.predict(vector.transform(preprocess([\"Well we all now think that the DreamCast has the best game, it's the best there is in the market, and it beats PS2. Well that may be true. Even though I don't have DC, but looking at the records, did to the Sega fans I doubt DreamCast would become the best out in the market. If you remember to the older versions of Sega, what happened to their games? Yup all gone, they don't send anymore to the US evem before the DC came out, most people may have even forgot there was a Sega company. For those people who has\\/had Sega Saturn would know, it came out with many title of games and the next two years what happened to those games, well they stopped manufacturing them. Also what happend to the Sega Genesis console games??? Well same thing happened, they just stopped shipments. I dunno to much about history but so far I know one thing, history always repeats but in a different way, this time Sega's \\\"best console\\\" will just as well do the same thing like what it did in the past. They just stopped making the games. Well personally if your going to buy any console, I think that you should buy PS2 or wait for the X-Box, but not the next Ninetendo product (Dolphin) because they just don't make good games. Although I must admit Dreamcast does have good graphics. I also think that people who say the graphics of DC is better then PS2, I think they're just to weak to admit the two systems's graphics has no difference.\"])))\n",
    "\n",
    "print(BLUE+\"Test du modèle KNN multiclasses :\"+RESET)\n",
    "print(YELLOW+f\"test1 (expected 5) : {test1}\")\n",
    "print(f\"test2 (expected 1) : {test2}\")\n",
    "print(f\"test3 (expected 1) : {test6}\"+RESET)\n",
    "predictions = knnSearchMulti.predict(X_test)\n",
    "print(YELLOW+\"Résultats du modèle KNN :\"+RESET)\n",
    "print(classification_report(Y_test, predictions))\n",
    "\n",
    "\n",
    "\n",
    "\n"
   ]
  },
  {
   "attachments": {},
   "cell_type": "markdown",
   "metadata": {},
   "source": [
    "# Gradient Boosting Classifier"
   ]
  },
  {
   "attachments": {},
   "cell_type": "markdown",
   "metadata": {},
   "source": [
    "### Création du classifieur gradient boosting"
   ]
  },
  {
   "cell_type": "code",
   "execution_count": 20,
   "metadata": {},
   "outputs": [
    {
     "name": "stdout",
     "output_type": "stream",
     "text": [
      "\u001b[94mCréation du modèle GB_Classifier...\u001b[0m\n",
      "\u001b[92mModèle GB_Classifier créé avec succès\u001b[0m\n"
     ]
    }
   ],
   "source": [
    "print(BLUE+\"Création du modèle GB_Classifier...\"+RESET)\n",
    "try:\n",
    "    GB_Classifier = GradientBoostingClassifier()\n",
    "    GB_Classifier.fit(X_train, Y_train)\n",
    "    print(GREEN+\"Modèle GB_Classifier créé avec succès\"+RESET)\n",
    "except:\n",
    "    print(RED+\"Erreur lors de la création du modèle GB_Classifier\"+RESET)"
   ]
  },
  {
   "attachments": {},
   "cell_type": "markdown",
   "metadata": {},
   "source": [
    "### Évaluation du classifieur multiclasse"
   ]
  },
  {
   "cell_type": "code",
   "execution_count": 15,
   "metadata": {},
   "outputs": [
    {
     "name": "stderr",
     "output_type": "stream",
     "text": [
      "Prétraitement des textes: 100%|██████████| 1/1 [00:00<00:00, 86.94it/s]\n",
      "Prétraitement des textes: 100%|██████████| 1/1 [00:00<00:00, 105.24it/s]\n",
      "Prétraitement des textes: 100%|██████████| 1/1 [00:00<00:00, 36.36it/s]"
     ]
    },
    {
     "name": "stdout",
     "output_type": "stream",
     "text": [
      "\u001b[94mTest du modèle GB :\u001b[0m\n",
      "\u001b[93mtest1 (expected 5) : [5]\n",
      "test2 (expected 1) : [5]\n",
      "test3 (expected 1) : [5]\u001b[0m\n",
      "\u001b[93mRésultats du modèle GB :\u001b[0m\n",
      "              precision    recall  f1-score   support\n",
      "\n",
      "           1       0.47      0.34      0.39       377\n",
      "           2       0.27      0.07      0.12       285\n",
      "           3       0.31      0.11      0.17       453\n",
      "           4       0.36      0.20      0.26       909\n",
      "           5       0.65      0.90      0.76      2591\n",
      "\n",
      "    accuracy                           0.59      4615\n",
      "   macro avg       0.41      0.33      0.34      4615\n",
      "weighted avg       0.52      0.59      0.53      4615\n",
      "\n"
     ]
    },
    {
     "name": "stderr",
     "output_type": "stream",
     "text": [
      "\n"
     ]
    }
   ],
   "source": [
    "test1 = GB_Classifier.predict(vector.transform(preprocess([\"I think I've already written a review for this, but I wanted to add that the engine is much improved over the origanal.  In the first unreal I got an average of 10-20 fps DURING gameplay and 50 or so max (not using timedemo 1 during intro) and in UT I get 40-60+ average and even 100+ max.  This game has been so incredebly improved that I get higher frame rates  with better graphics!\"])))\n",
    "test2 = GB_Classifier.predict(vector.transform(preprocess([\"Where to begin?  How about...not fun.  Bad graphics+bad gameplay+bad sound+no replay value=bad game.  The saddest part is that Eidos put so much money into this game that good studios (i.e. Looking Glass) ended up  shutting down.  Quake II is still more fun than this!  They should have  pulled the plug on Ion Storm a long time ago.\"])))\n",
    "test6 = GB_Classifier.predict(vector.transform(preprocess([\"Well we all now think that the DreamCast has the best game, it's the best there is in the market, and it beats PS2. Well that may be true. Even though I don't have DC, but looking at the records, did to the Sega fans I doubt DreamCast would become the best out in the market. If you remember to the older versions of Sega, what happened to their games? Yup all gone, they don't send anymore to the US evem before the DC came out, most people may have even forgot there was a Sega company. For those people who has\\/had Sega Saturn would know, it came out with many title of games and the next two years what happened to those games, well they stopped manufacturing them. Also what happend to the Sega Genesis console games??? Well same thing happened, they just stopped shipments. I dunno to much about history but so far I know one thing, history always repeats but in a different way, this time Sega's \\\"best console\\\" will just as well do the same thing like what it did in the past. They just stopped making the games. Well personally if your going to buy any console, I think that you should buy PS2 or wait for the X-Box, but not the next Ninetendo product (Dolphin) because they just don't make good games. Although I must admit Dreamcast does have good graphics. I also think that people who say the graphics of DC is better then PS2, I think they're just to weak to admit the two systems's graphics has no difference.\"])))\n",
    "\n",
    "print(BLUE+\"Test du modèle GB :\"+RESET)\n",
    "print(YELLOW+f\"test1 (expected 5) : {test1}\")\n",
    "print(f\"test2 (expected 1) : {test2}\")\n",
    "print(f\"test3 (expected 1) : {test6}\"+RESET)\n",
    "predictions = GB_Classifier.predict(X_test)\n",
    "print(YELLOW+\"Résultats du modèle GB :\"+RESET)\n",
    "print(classification_report(Y_test, predictions))"
   ]
  },
  {
   "cell_type": "markdown",
   "metadata": {},
   "source": [
    "# Random Forest Classifier"
   ]
  },
  {
   "cell_type": "markdown",
   "metadata": {},
   "source": [
    "### Création du classifieur random forest"
   ]
  },
  {
   "cell_type": "code",
   "execution_count": 16,
   "metadata": {},
   "outputs": [
    {
     "name": "stdout",
     "output_type": "stream",
     "text": [
      "\u001b[94mCréation du modèle GB_Classifier...\u001b[0m\n",
      "\u001b[92mModèle RD_Classifier créé avec succès\u001b[0m\n"
     ]
    }
   ],
   "source": [
    "print(BLUE+\"Création du modèle GB_Classifier...\"+RESET)\n",
    "try:\n",
    "    RD_Classifier = RandomForestClassifier(n_estimators=100, random_state=42)\n",
    "    RD_Classifier.fit(X_train, Y_train)\n",
    "    print(GREEN+\"Modèle RD_Classifier créé avec succès\"+RESET)\n",
    "except:\n",
    "    print(RED+\"Erreur lors de la création du modèle RD_Classifier\"+RESET)"
   ]
  },
  {
   "cell_type": "markdown",
   "metadata": {},
   "source": [
    "### Évaluation du classifieur multiclasse"
   ]
  },
  {
   "cell_type": "code",
   "execution_count": 17,
   "metadata": {},
   "outputs": [
    {
     "name": "stderr",
     "output_type": "stream",
     "text": [
      "Prétraitement des textes: 100%|██████████| 1/1 [00:00<00:00, 83.32it/s]\n",
      "Prétraitement des textes: 100%|██████████| 1/1 [00:00<00:00, 105.25it/s]\n",
      "Prétraitement des textes: 100%|██████████| 1/1 [00:00<00:00, 39.21it/s]\n"
     ]
    },
    {
     "name": "stdout",
     "output_type": "stream",
     "text": [
      "\u001b[94mTest du modèle GB :\u001b[0m\n",
      "\u001b[93mtest1 (expected 5) : [5]\n",
      "test2 (expected 1) : [5]\n",
      "test3 (expected 1) : [5]\u001b[0m\n",
      "\u001b[93mRésultats du modèle Random forest :\u001b[0m\n",
      "              precision    recall  f1-score   support\n",
      "\n",
      "           1       0.66      0.19      0.29       377\n",
      "           2       0.67      0.01      0.01       285\n",
      "           3       1.00      0.01      0.02       453\n",
      "           4       0.34      0.03      0.05       909\n",
      "           5       0.58      0.99      0.73      2591\n",
      "\n",
      "    accuracy                           0.58      4615\n",
      "   macro avg       0.65      0.24      0.22      4615\n",
      "weighted avg       0.59      0.58      0.45      4615\n",
      "\n"
     ]
    }
   ],
   "source": [
    "test1 = RD_Classifier.predict(vector.transform(preprocess([\"I think I've already written a review for this, but I wanted to add that the engine is much improved over the origanal.  In the first unreal I got an average of 10-20 fps DURING gameplay and 50 or so max (not using timedemo 1 during intro) and in UT I get 40-60+ average and even 100+ max.  This game has been so incredebly improved that I get higher frame rates  with better graphics!\"])))\n",
    "test2 = RD_Classifier.predict(vector.transform(preprocess([\"Where to begin?  How about...not fun.  Bad graphics+bad gameplay+bad sound+no replay value=bad game.  The saddest part is that Eidos put so much money into this game that good studios (i.e. Looking Glass) ended up  shutting down.  Quake II is still more fun than this!  They should have  pulled the plug on Ion Storm a long time ago.\"])))\n",
    "test6 = RD_Classifier.predict(vector.transform(preprocess([\"Well we all now think that the DreamCast has the best game, it's the best there is in the market, and it beats PS2. Well that may be true. Even though I don't have DC, but looking at the records, did to the Sega fans I doubt DreamCast would become the best out in the market. If you remember to the older versions of Sega, what happened to their games? Yup all gone, they don't send anymore to the US evem before the DC came out, most people may have even forgot there was a Sega company. For those people who has\\/had Sega Saturn would know, it came out with many title of games and the next two years what happened to those games, well they stopped manufacturing them. Also what happend to the Sega Genesis console games??? Well same thing happened, they just stopped shipments. I dunno to much about history but so far I know one thing, history always repeats but in a different way, this time Sega's \\\"best console\\\" will just as well do the same thing like what it did in the past. They just stopped making the games. Well personally if your going to buy any console, I think that you should buy PS2 or wait for the X-Box, but not the next Ninetendo product (Dolphin) because they just don't make good games. Although I must admit Dreamcast does have good graphics. I also think that people who say the graphics of DC is better then PS2, I think they're just to weak to admit the two systems's graphics has no difference.\"])))\n",
    "\n",
    "print(BLUE+\"Test du modèle GB :\"+RESET)\n",
    "print(YELLOW+f\"test1 (expected 5) : {test1}\")\n",
    "print(f\"test2 (expected 1) : {test2}\")\n",
    "print(f\"test3 (expected 1) : {test6}\"+RESET)\n",
    "predictions = RD_Classifier.predict(X_test)\n",
    "print(YELLOW+\"Résultats du modèle Random forest :\"+RESET)\n",
    "print(classification_report(Y_test, predictions))"
   ]
  }
 ],
 "metadata": {
  "kernelspec": {
   "display_name": ".venv",
   "language": "python",
   "name": "python3"
  },
  "language_info": {
   "codemirror_mode": {
    "name": "ipython",
    "version": 3
   },
   "file_extension": ".py",
   "mimetype": "text/x-python",
   "name": "python",
   "nbconvert_exporter": "python",
   "pygments_lexer": "ipython3",
   "version": "3.11.2"
  }
 },
 "nbformat": 4,
 "nbformat_minor": 2
}
